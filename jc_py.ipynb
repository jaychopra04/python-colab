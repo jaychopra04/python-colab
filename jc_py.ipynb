{
  "nbformat": 4,
  "nbformat_minor": 0,
  "metadata": {
    "colab": {
      "name": "jc.py",
      "provenance": [],
      "collapsed_sections": [],
      "authorship_tag": "ABX9TyNpdeBhLkKKoSxUtyrOnNMH",
      "include_colab_link": true
    },
    "kernelspec": {
      "name": "python3",
      "display_name": "Python 3"
    },
    "language_info": {
      "name": "python"
    },
    "widgets": {
      "application/vnd.jupyter.widget-state+json": {
        "539a98129bfd476e8cf194075f930400": {
          "model_module": "@jupyter-widgets/controls",
          "model_name": "IntSliderModel",
          "model_module_version": "1.5.0",
          "state": {
            "_view_name": "IntSliderView",
            "style": "IPY_MODEL_0d76f161ad324a3b8a8fe493821822de",
            "_dom_classes": [],
            "description": "",
            "step": 1,
            "_model_name": "IntSliderModel",
            "orientation": "horizontal",
            "max": 100,
            "_view_module": "@jupyter-widgets/controls",
            "_model_module_version": "1.5.0",
            "value": 43,
            "_view_count": null,
            "disabled": false,
            "_view_module_version": "1.5.0",
            "min": 0,
            "continuous_update": true,
            "readout_format": "d",
            "description_tooltip": null,
            "readout": true,
            "_model_module": "@jupyter-widgets/controls",
            "layout": "IPY_MODEL_54e8b90771fd4ae1bb70ea926dba9023"
          }
        },
        "0d76f161ad324a3b8a8fe493821822de": {
          "model_module": "@jupyter-widgets/controls",
          "model_name": "SliderStyleModel",
          "model_module_version": "1.5.0",
          "state": {
            "_view_name": "StyleView",
            "handle_color": null,
            "_model_name": "SliderStyleModel",
            "description_width": "",
            "_view_module": "@jupyter-widgets/base",
            "_model_module_version": "1.5.0",
            "_view_count": null,
            "_view_module_version": "1.2.0",
            "_model_module": "@jupyter-widgets/controls"
          }
        },
        "54e8b90771fd4ae1bb70ea926dba9023": {
          "model_module": "@jupyter-widgets/base",
          "model_name": "LayoutModel",
          "model_module_version": "1.2.0",
          "state": {
            "_view_name": "LayoutView",
            "grid_template_rows": null,
            "right": null,
            "justify_content": null,
            "_view_module": "@jupyter-widgets/base",
            "overflow": null,
            "_model_module_version": "1.2.0",
            "_view_count": null,
            "flex_flow": null,
            "width": null,
            "min_width": null,
            "border": null,
            "align_items": null,
            "bottom": null,
            "_model_module": "@jupyter-widgets/base",
            "top": null,
            "grid_column": null,
            "overflow_y": null,
            "overflow_x": null,
            "grid_auto_flow": null,
            "grid_area": null,
            "grid_template_columns": null,
            "flex": null,
            "_model_name": "LayoutModel",
            "justify_items": null,
            "grid_row": null,
            "max_height": null,
            "align_content": null,
            "visibility": null,
            "align_self": null,
            "height": null,
            "min_height": null,
            "padding": null,
            "grid_auto_rows": null,
            "grid_gap": null,
            "max_width": null,
            "order": null,
            "_view_module_version": "1.2.0",
            "grid_template_areas": null,
            "object_position": null,
            "object_fit": null,
            "grid_auto_columns": null,
            "margin": null,
            "display": null,
            "left": null
          }
        },
        "f0a208fa5aba467cb205bcef9670f827": {
          "model_module": "@jupyter-widgets/controls",
          "model_name": "VBoxModel",
          "model_module_version": "1.5.0",
          "state": {
            "_view_name": "VBoxView",
            "_dom_classes": [
              "widget-interact"
            ],
            "_model_name": "VBoxModel",
            "_view_module": "@jupyter-widgets/controls",
            "_model_module_version": "1.5.0",
            "_view_count": null,
            "_view_module_version": "1.5.0",
            "box_style": "",
            "layout": "IPY_MODEL_163d4a6fd3764489b492aa8d16f2c089",
            "_model_module": "@jupyter-widgets/controls",
            "children": [
              "IPY_MODEL_67671ea737fd422db796e6627cfea39f",
              "IPY_MODEL_5b095ce4a5ae454b9af6ea666bc37620"
            ]
          }
        },
        "163d4a6fd3764489b492aa8d16f2c089": {
          "model_module": "@jupyter-widgets/base",
          "model_name": "LayoutModel",
          "model_module_version": "1.2.0",
          "state": {
            "_view_name": "LayoutView",
            "grid_template_rows": null,
            "right": null,
            "justify_content": null,
            "_view_module": "@jupyter-widgets/base",
            "overflow": null,
            "_model_module_version": "1.2.0",
            "_view_count": null,
            "flex_flow": null,
            "width": null,
            "min_width": null,
            "border": null,
            "align_items": null,
            "bottom": null,
            "_model_module": "@jupyter-widgets/base",
            "top": null,
            "grid_column": null,
            "overflow_y": null,
            "overflow_x": null,
            "grid_auto_flow": null,
            "grid_area": null,
            "grid_template_columns": null,
            "flex": null,
            "_model_name": "LayoutModel",
            "justify_items": null,
            "grid_row": null,
            "max_height": null,
            "align_content": null,
            "visibility": null,
            "align_self": null,
            "height": null,
            "min_height": null,
            "padding": null,
            "grid_auto_rows": null,
            "grid_gap": null,
            "max_width": null,
            "order": null,
            "_view_module_version": "1.2.0",
            "grid_template_areas": null,
            "object_position": null,
            "object_fit": null,
            "grid_auto_columns": null,
            "margin": null,
            "display": null,
            "left": null
          }
        },
        "67671ea737fd422db796e6627cfea39f": {
          "model_module": "@jupyter-widgets/controls",
          "model_name": "SelectMultipleModel",
          "model_module_version": "1.5.0",
          "state": {
            "_options_labels": [
              "MSFT",
              "AMZN",
              "IBM",
              "GOOG",
              "AAPL"
            ],
            "_view_name": "SelectMultipleView",
            "style": "IPY_MODEL_7cf3c4b724f54b69b0fe69fc8d44d6dd",
            "rows": 5,
            "_dom_classes": [],
            "description": "Symbols",
            "_model_name": "SelectMultipleModel",
            "index": [
              4
            ],
            "_view_module": "@jupyter-widgets/controls",
            "_model_module_version": "1.5.0",
            "_view_count": null,
            "disabled": false,
            "_view_module_version": "1.5.0",
            "description_tooltip": null,
            "_model_module": "@jupyter-widgets/controls",
            "layout": "IPY_MODEL_960b36911a0c42778740bcdbd4943636"
          }
        },
        "5b095ce4a5ae454b9af6ea666bc37620": {
          "model_module": "@jupyter-widgets/output",
          "model_name": "OutputModel",
          "model_module_version": "1.0.0",
          "state": {
            "_view_name": "OutputView",
            "msg_id": "",
            "_dom_classes": [],
            "_model_name": "OutputModel",
            "outputs": [
              {
                "output_type": "display_data",
                "metadata": {
                  "tags": []
                },
                "text/plain": "alt.Chart(...)",
                "text/html": "\n<div id=\"altair-viz-36d9b8565889463fb30f3065109f0783\"></div>\n<script type=\"text/javascript\">\n  (function(spec, embedOpt){\n    let outputDiv = document.currentScript.previousElementSibling;\n    if (outputDiv.id !== \"altair-viz-36d9b8565889463fb30f3065109f0783\") {\n      outputDiv = document.getElementById(\"altair-viz-36d9b8565889463fb30f3065109f0783\");\n    }\n    const paths = {\n      \"vega\": \"https://cdn.jsdelivr.net/npm//vega@5?noext\",\n      \"vega-lib\": \"https://cdn.jsdelivr.net/npm//vega-lib?noext\",\n      \"vega-lite\": \"https://cdn.jsdelivr.net/npm//vega-lite@4.8.1?noext\",\n      \"vega-embed\": \"https://cdn.jsdelivr.net/npm//vega-embed@6?noext\",\n    };\n\n    function loadScript(lib) {\n      return new Promise(function(resolve, reject) {\n        var s = document.createElement('script');\n        s.src = paths[lib];\n        s.async = true;\n        s.onload = () => resolve(paths[lib]);\n        s.onerror = () => reject(`Error loading script: ${paths[lib]}`);\n        document.getElementsByTagName(\"head\")[0].appendChild(s);\n      });\n    }\n\n    function showError(err) {\n      outputDiv.innerHTML = `<div class=\"error\" style=\"color:red;\">${err}</div>`;\n      throw err;\n    }\n\n    function displayChart(vegaEmbed) {\n      vegaEmbed(outputDiv, spec, embedOpt)\n        .catch(err => showError(`Javascript Error: ${err.message}<br>This usually means there's a typo in your chart specification. See the javascript console for the full traceback.`));\n    }\n\n    if(typeof define === \"function\" && define.amd) {\n      requirejs.config({paths});\n      require([\"vega-embed\"], displayChart, err => showError(`Error loading script: ${err.message}`));\n    } else if (typeof vegaEmbed === \"function\") {\n      displayChart(vegaEmbed);\n    } else {\n      loadScript(\"vega\")\n        .then(() => loadScript(\"vega-lite\"))\n        .then(() => loadScript(\"vega-embed\"))\n        .catch(showError)\n        .then(() => displayChart(vegaEmbed));\n    }\n  })({\"config\": {\"view\": {\"continuousWidth\": 400, \"continuousHeight\": 300}}, \"data\": {\"name\": \"data-6f2a334894fda21ce10d0122a09f5fdc\"}, \"mark\": \"line\", \"encoding\": {\"color\": {\"type\": \"nominal\", \"field\": \"symbol\"}, \"strokeDash\": {\"type\": \"nominal\", \"field\": \"symbol\"}, \"x\": {\"type\": \"temporal\", \"field\": \"date\"}, \"y\": {\"type\": \"quantitative\", \"field\": \"price\"}}, \"$schema\": \"https://vega.github.io/schema/vega-lite/v4.8.1.json\", \"datasets\": {\"data-6f2a334894fda21ce10d0122a09f5fdc\": [{\"symbol\": \"AAPL\", \"date\": \"2000-01-01T00:00:00\", \"price\": 25.94}, {\"symbol\": \"AAPL\", \"date\": \"2000-02-01T00:00:00\", \"price\": 28.66}, {\"symbol\": \"AAPL\", \"date\": \"2000-03-01T00:00:00\", \"price\": 33.95}, {\"symbol\": \"AAPL\", \"date\": \"2000-04-01T00:00:00\", \"price\": 31.01}, {\"symbol\": \"AAPL\", \"date\": \"2000-05-01T00:00:00\", \"price\": 21.0}, {\"symbol\": \"AAPL\", \"date\": \"2000-06-01T00:00:00\", \"price\": 26.19}, {\"symbol\": \"AAPL\", \"date\": \"2000-07-01T00:00:00\", \"price\": 25.41}, {\"symbol\": \"AAPL\", \"date\": \"2000-08-01T00:00:00\", \"price\": 30.47}, {\"symbol\": \"AAPL\", \"date\": \"2000-09-01T00:00:00\", \"price\": 12.88}, {\"symbol\": \"AAPL\", \"date\": \"2000-10-01T00:00:00\", \"price\": 9.78}, {\"symbol\": \"AAPL\", \"date\": \"2000-11-01T00:00:00\", \"price\": 8.25}, {\"symbol\": \"AAPL\", \"date\": \"2000-12-01T00:00:00\", \"price\": 7.44}, {\"symbol\": \"AAPL\", \"date\": \"2001-01-01T00:00:00\", \"price\": 10.81}, {\"symbol\": \"AAPL\", \"date\": \"2001-02-01T00:00:00\", \"price\": 9.12}, {\"symbol\": \"AAPL\", \"date\": \"2001-03-01T00:00:00\", \"price\": 11.03}, {\"symbol\": \"AAPL\", \"date\": \"2001-04-01T00:00:00\", \"price\": 12.74}, {\"symbol\": \"AAPL\", \"date\": \"2001-05-01T00:00:00\", \"price\": 9.98}, {\"symbol\": \"AAPL\", \"date\": \"2001-06-01T00:00:00\", \"price\": 11.62}, {\"symbol\": \"AAPL\", \"date\": \"2001-07-01T00:00:00\", \"price\": 9.4}, {\"symbol\": \"AAPL\", \"date\": \"2001-08-01T00:00:00\", \"price\": 9.27}, {\"symbol\": \"AAPL\", \"date\": \"2001-09-01T00:00:00\", \"price\": 7.76}, {\"symbol\": \"AAPL\", \"date\": \"2001-10-01T00:00:00\", \"price\": 8.78}, {\"symbol\": \"AAPL\", \"date\": \"2001-11-01T00:00:00\", \"price\": 10.65}, {\"symbol\": \"AAPL\", \"date\": \"2001-12-01T00:00:00\", \"price\": 10.95}, {\"symbol\": \"AAPL\", \"date\": \"2002-01-01T00:00:00\", \"price\": 12.36}, {\"symbol\": \"AAPL\", \"date\": \"2002-02-01T00:00:00\", \"price\": 10.85}, {\"symbol\": \"AAPL\", \"date\": \"2002-03-01T00:00:00\", \"price\": 11.84}, {\"symbol\": \"AAPL\", \"date\": \"2002-04-01T00:00:00\", \"price\": 12.14}, {\"symbol\": \"AAPL\", \"date\": \"2002-05-01T00:00:00\", \"price\": 11.65}, {\"symbol\": \"AAPL\", \"date\": \"2002-06-01T00:00:00\", \"price\": 8.86}, {\"symbol\": \"AAPL\", \"date\": \"2002-07-01T00:00:00\", \"price\": 7.63}, {\"symbol\": \"AAPL\", \"date\": \"2002-08-01T00:00:00\", \"price\": 7.38}, {\"symbol\": \"AAPL\", \"date\": \"2002-09-01T00:00:00\", \"price\": 7.25}, {\"symbol\": \"AAPL\", \"date\": \"2002-10-01T00:00:00\", \"price\": 8.03}, {\"symbol\": \"AAPL\", \"date\": \"2002-11-01T00:00:00\", \"price\": 7.75}, {\"symbol\": \"AAPL\", \"date\": \"2002-12-01T00:00:00\", \"price\": 7.16}, {\"symbol\": \"AAPL\", \"date\": \"2003-01-01T00:00:00\", \"price\": 7.18}, {\"symbol\": \"AAPL\", \"date\": \"2003-02-01T00:00:00\", \"price\": 7.51}, {\"symbol\": \"AAPL\", \"date\": \"2003-03-01T00:00:00\", \"price\": 7.07}, {\"symbol\": \"AAPL\", \"date\": \"2003-04-01T00:00:00\", \"price\": 7.11}, {\"symbol\": \"AAPL\", \"date\": \"2003-05-01T00:00:00\", \"price\": 8.98}, {\"symbol\": \"AAPL\", \"date\": \"2003-06-01T00:00:00\", \"price\": 9.53}, {\"symbol\": \"AAPL\", \"date\": \"2003-07-01T00:00:00\", \"price\": 10.54}, {\"symbol\": \"AAPL\", \"date\": \"2003-08-01T00:00:00\", \"price\": 11.31}, {\"symbol\": \"AAPL\", \"date\": \"2003-09-01T00:00:00\", \"price\": 10.36}, {\"symbol\": \"AAPL\", \"date\": \"2003-10-01T00:00:00\", \"price\": 11.44}, {\"symbol\": \"AAPL\", \"date\": \"2003-11-01T00:00:00\", \"price\": 10.45}, {\"symbol\": \"AAPL\", \"date\": \"2003-12-01T00:00:00\", \"price\": 10.69}, {\"symbol\": \"AAPL\", \"date\": \"2004-01-01T00:00:00\", \"price\": 11.28}, {\"symbol\": \"AAPL\", \"date\": \"2004-02-01T00:00:00\", \"price\": 11.96}, {\"symbol\": \"AAPL\", \"date\": \"2004-03-01T00:00:00\", \"price\": 13.52}, {\"symbol\": \"AAPL\", \"date\": \"2004-04-01T00:00:00\", \"price\": 12.89}, {\"symbol\": \"AAPL\", \"date\": \"2004-05-01T00:00:00\", \"price\": 14.03}, {\"symbol\": \"AAPL\", \"date\": \"2004-06-01T00:00:00\", \"price\": 16.27}, {\"symbol\": \"AAPL\", \"date\": \"2004-07-01T00:00:00\", \"price\": 16.17}, {\"symbol\": \"AAPL\", \"date\": \"2004-08-01T00:00:00\", \"price\": 17.25}, {\"symbol\": \"AAPL\", \"date\": \"2004-09-01T00:00:00\", \"price\": 19.38}, {\"symbol\": \"AAPL\", \"date\": \"2004-10-01T00:00:00\", \"price\": 26.2}, {\"symbol\": \"AAPL\", \"date\": \"2004-11-01T00:00:00\", \"price\": 33.53}, {\"symbol\": \"AAPL\", \"date\": \"2004-12-01T00:00:00\", \"price\": 32.2}, {\"symbol\": \"AAPL\", \"date\": \"2005-01-01T00:00:00\", \"price\": 38.45}, {\"symbol\": \"AAPL\", \"date\": \"2005-02-01T00:00:00\", \"price\": 44.86}, {\"symbol\": \"AAPL\", \"date\": \"2005-03-01T00:00:00\", \"price\": 41.67}, {\"symbol\": \"AAPL\", \"date\": \"2005-04-01T00:00:00\", \"price\": 36.06}, {\"symbol\": \"AAPL\", \"date\": \"2005-05-01T00:00:00\", \"price\": 39.76}, {\"symbol\": \"AAPL\", \"date\": \"2005-06-01T00:00:00\", \"price\": 36.81}, {\"symbol\": \"AAPL\", \"date\": \"2005-07-01T00:00:00\", \"price\": 42.65}, {\"symbol\": \"AAPL\", \"date\": \"2005-08-01T00:00:00\", \"price\": 46.89}, {\"symbol\": \"AAPL\", \"date\": \"2005-09-01T00:00:00\", \"price\": 53.61}, {\"symbol\": \"AAPL\", \"date\": \"2005-10-01T00:00:00\", \"price\": 57.59}, {\"symbol\": \"AAPL\", \"date\": \"2005-11-01T00:00:00\", \"price\": 67.82}, {\"symbol\": \"AAPL\", \"date\": \"2005-12-01T00:00:00\", \"price\": 71.89}, {\"symbol\": \"AAPL\", \"date\": \"2006-01-01T00:00:00\", \"price\": 75.51}, {\"symbol\": \"AAPL\", \"date\": \"2006-02-01T00:00:00\", \"price\": 68.49}, {\"symbol\": \"AAPL\", \"date\": \"2006-03-01T00:00:00\", \"price\": 62.72}, {\"symbol\": \"AAPL\", \"date\": \"2006-04-01T00:00:00\", \"price\": 70.39}, {\"symbol\": \"AAPL\", \"date\": \"2006-05-01T00:00:00\", \"price\": 59.77}, {\"symbol\": \"AAPL\", \"date\": \"2006-06-01T00:00:00\", \"price\": 57.27}, {\"symbol\": \"AAPL\", \"date\": \"2006-07-01T00:00:00\", \"price\": 67.96}, {\"symbol\": \"AAPL\", \"date\": \"2006-08-01T00:00:00\", \"price\": 67.85}, {\"symbol\": \"AAPL\", \"date\": \"2006-09-01T00:00:00\", \"price\": 76.98}, {\"symbol\": \"AAPL\", \"date\": \"2006-10-01T00:00:00\", \"price\": 81.08}, {\"symbol\": \"AAPL\", \"date\": \"2006-11-01T00:00:00\", \"price\": 91.66}, {\"symbol\": \"AAPL\", \"date\": \"2006-12-01T00:00:00\", \"price\": 84.84}, {\"symbol\": \"AAPL\", \"date\": \"2007-01-01T00:00:00\", \"price\": 85.73}, {\"symbol\": \"AAPL\", \"date\": \"2007-02-01T00:00:00\", \"price\": 84.61}, {\"symbol\": \"AAPL\", \"date\": \"2007-03-01T00:00:00\", \"price\": 92.91}, {\"symbol\": \"AAPL\", \"date\": \"2007-04-01T00:00:00\", \"price\": 99.8}, {\"symbol\": \"AAPL\", \"date\": \"2007-05-01T00:00:00\", \"price\": 121.19}, {\"symbol\": \"AAPL\", \"date\": \"2007-06-01T00:00:00\", \"price\": 122.04}, {\"symbol\": \"AAPL\", \"date\": \"2007-07-01T00:00:00\", \"price\": 131.76}, {\"symbol\": \"AAPL\", \"date\": \"2007-08-01T00:00:00\", \"price\": 138.48}, {\"symbol\": \"AAPL\", \"date\": \"2007-09-01T00:00:00\", \"price\": 153.47}, {\"symbol\": \"AAPL\", \"date\": \"2007-10-01T00:00:00\", \"price\": 189.95}, {\"symbol\": \"AAPL\", \"date\": \"2007-11-01T00:00:00\", \"price\": 182.22}, {\"symbol\": \"AAPL\", \"date\": \"2007-12-01T00:00:00\", \"price\": 198.08}, {\"symbol\": \"AAPL\", \"date\": \"2008-01-01T00:00:00\", \"price\": 135.36}, {\"symbol\": \"AAPL\", \"date\": \"2008-02-01T00:00:00\", \"price\": 125.02}, {\"symbol\": \"AAPL\", \"date\": \"2008-03-01T00:00:00\", \"price\": 143.5}, {\"symbol\": \"AAPL\", \"date\": \"2008-04-01T00:00:00\", \"price\": 173.95}, {\"symbol\": \"AAPL\", \"date\": \"2008-05-01T00:00:00\", \"price\": 188.75}, {\"symbol\": \"AAPL\", \"date\": \"2008-06-01T00:00:00\", \"price\": 167.44}, {\"symbol\": \"AAPL\", \"date\": \"2008-07-01T00:00:00\", \"price\": 158.95}, {\"symbol\": \"AAPL\", \"date\": \"2008-08-01T00:00:00\", \"price\": 169.53}, {\"symbol\": \"AAPL\", \"date\": \"2008-09-01T00:00:00\", \"price\": 113.66}, {\"symbol\": \"AAPL\", \"date\": \"2008-10-01T00:00:00\", \"price\": 107.59}, {\"symbol\": \"AAPL\", \"date\": \"2008-11-01T00:00:00\", \"price\": 92.67}, {\"symbol\": \"AAPL\", \"date\": \"2008-12-01T00:00:00\", \"price\": 85.35}, {\"symbol\": \"AAPL\", \"date\": \"2009-01-01T00:00:00\", \"price\": 90.13}, {\"symbol\": \"AAPL\", \"date\": \"2009-02-01T00:00:00\", \"price\": 89.31}, {\"symbol\": \"AAPL\", \"date\": \"2009-03-01T00:00:00\", \"price\": 105.12}, {\"symbol\": \"AAPL\", \"date\": \"2009-04-01T00:00:00\", \"price\": 125.83}, {\"symbol\": \"AAPL\", \"date\": \"2009-05-01T00:00:00\", \"price\": 135.81}, {\"symbol\": \"AAPL\", \"date\": \"2009-06-01T00:00:00\", \"price\": 142.43}, {\"symbol\": \"AAPL\", \"date\": \"2009-07-01T00:00:00\", \"price\": 163.39}, {\"symbol\": \"AAPL\", \"date\": \"2009-08-01T00:00:00\", \"price\": 168.21}, {\"symbol\": \"AAPL\", \"date\": \"2009-09-01T00:00:00\", \"price\": 185.35}, {\"symbol\": \"AAPL\", \"date\": \"2009-10-01T00:00:00\", \"price\": 188.5}, {\"symbol\": \"AAPL\", \"date\": \"2009-11-01T00:00:00\", \"price\": 199.91}, {\"symbol\": \"AAPL\", \"date\": \"2009-12-01T00:00:00\", \"price\": 210.73}, {\"symbol\": \"AAPL\", \"date\": \"2010-01-01T00:00:00\", \"price\": 192.06}, {\"symbol\": \"AAPL\", \"date\": \"2010-02-01T00:00:00\", \"price\": 204.62}, {\"symbol\": \"AAPL\", \"date\": \"2010-03-01T00:00:00\", \"price\": 223.02}]}}, {\"mode\": \"vega-lite\"});\n</script>"
              }
            ],
            "_view_module": "@jupyter-widgets/output",
            "_model_module_version": "1.0.0",
            "_view_count": null,
            "_view_module_version": "1.0.0",
            "layout": "IPY_MODEL_eabeaf217e8b45b89ff35d47f54f515e",
            "_model_module": "@jupyter-widgets/output"
          }
        },
        "7cf3c4b724f54b69b0fe69fc8d44d6dd": {
          "model_module": "@jupyter-widgets/controls",
          "model_name": "DescriptionStyleModel",
          "model_module_version": "1.5.0",
          "state": {
            "_view_name": "StyleView",
            "_model_name": "DescriptionStyleModel",
            "description_width": "",
            "_view_module": "@jupyter-widgets/base",
            "_model_module_version": "1.5.0",
            "_view_count": null,
            "_view_module_version": "1.2.0",
            "_model_module": "@jupyter-widgets/controls"
          }
        },
        "960b36911a0c42778740bcdbd4943636": {
          "model_module": "@jupyter-widgets/base",
          "model_name": "LayoutModel",
          "model_module_version": "1.2.0",
          "state": {
            "_view_name": "LayoutView",
            "grid_template_rows": null,
            "right": null,
            "justify_content": null,
            "_view_module": "@jupyter-widgets/base",
            "overflow": null,
            "_model_module_version": "1.2.0",
            "_view_count": null,
            "flex_flow": null,
            "width": null,
            "min_width": null,
            "border": null,
            "align_items": null,
            "bottom": null,
            "_model_module": "@jupyter-widgets/base",
            "top": null,
            "grid_column": null,
            "overflow_y": null,
            "overflow_x": null,
            "grid_auto_flow": null,
            "grid_area": null,
            "grid_template_columns": null,
            "flex": null,
            "_model_name": "LayoutModel",
            "justify_items": null,
            "grid_row": null,
            "max_height": null,
            "align_content": null,
            "visibility": null,
            "align_self": null,
            "height": null,
            "min_height": null,
            "padding": null,
            "grid_auto_rows": null,
            "grid_gap": null,
            "max_width": null,
            "order": null,
            "_view_module_version": "1.2.0",
            "grid_template_areas": null,
            "object_position": null,
            "object_fit": null,
            "grid_auto_columns": null,
            "margin": null,
            "display": null,
            "left": null
          }
        },
        "eabeaf217e8b45b89ff35d47f54f515e": {
          "model_module": "@jupyter-widgets/base",
          "model_name": "LayoutModel",
          "model_module_version": "1.2.0",
          "state": {
            "_view_name": "LayoutView",
            "grid_template_rows": null,
            "right": null,
            "justify_content": null,
            "_view_module": "@jupyter-widgets/base",
            "overflow": null,
            "_model_module_version": "1.2.0",
            "_view_count": null,
            "flex_flow": null,
            "width": null,
            "min_width": null,
            "border": null,
            "align_items": null,
            "bottom": null,
            "_model_module": "@jupyter-widgets/base",
            "top": null,
            "grid_column": null,
            "overflow_y": null,
            "overflow_x": null,
            "grid_auto_flow": null,
            "grid_area": null,
            "grid_template_columns": null,
            "flex": null,
            "_model_name": "LayoutModel",
            "justify_items": null,
            "grid_row": null,
            "max_height": null,
            "align_content": null,
            "visibility": null,
            "align_self": null,
            "height": null,
            "min_height": null,
            "padding": null,
            "grid_auto_rows": null,
            "grid_gap": null,
            "max_width": null,
            "order": null,
            "_view_module_version": "1.2.0",
            "grid_template_areas": null,
            "object_position": null,
            "object_fit": null,
            "grid_auto_columns": null,
            "margin": null,
            "display": null,
            "left": null
          }
        }
      }
    }
  },
  "cells": [
    {
      "cell_type": "markdown",
      "metadata": {
        "id": "view-in-github",
        "colab_type": "text"
      },
      "source": [
        "<a href=\"https://colab.research.google.com/github/jaychopra04/python-colab/blob/main/jc_py.ipynb\" target=\"_parent\"><img src=\"https://colab.research.google.com/assets/colab-badge.svg\" alt=\"Open In Colab\"/></a>"
      ]
    },
    {
      "cell_type": "code",
      "metadata": {
        "colab": {
          "base_uri": "https://localhost:8080/"
        },
        "id": "haheesqtot3l",
        "outputId": "ce5853d0-bfdb-41c6-992c-0f7947f71cee"
      },
      "source": [
        "print(\"HI Jay\")"
      ],
      "execution_count": 34,
      "outputs": [
        {
          "output_type": "stream",
          "text": [
            "HI Jay\n"
          ],
          "name": "stdout"
        }
      ]
    },
    {
      "cell_type": "code",
      "metadata": {
        "colab": {
          "base_uri": "https://localhost:8080/"
        },
        "id": "vEhDmL9fo6s8",
        "outputId": "fe930666-7e23-48fd-dae4-a5144f808f6b"
      },
      "source": [
        " i=input(\"Enter your age \")\n",
        " print(i)\n",
        " j=int(i)\n",
        " k=2021\n",
        "z=k-j\n",
        "\n",
        "print(\"You were born in year\",z)"
      ],
      "execution_count": 35,
      "outputs": [
        {
          "output_type": "stream",
          "text": [
            "Enter your age 2\n",
            "2\n",
            "You were born in year 2019\n"
          ],
          "name": "stdout"
        }
      ]
    },
    {
      "cell_type": "code",
      "metadata": {
        "colab": {
          "base_uri": "https://localhost:8080/"
        },
        "id": "YVZwioBpr5A9",
        "outputId": "747f5db2-0fef-447f-e4ec-898352957d4f"
      },
      "source": [
        "i=input(\"What is the price ?\")\n",
        "j=int(i)\n",
        "k=0.2*j\n",
        "\n",
        "print(k)"
      ],
      "execution_count": 36,
      "outputs": [
        {
          "output_type": "stream",
          "text": [
            "What is the price ?233\n",
            "46.6\n"
          ],
          "name": "stdout"
        }
      ]
    },
    {
      "cell_type": "code",
      "metadata": {
        "colab": {
          "base_uri": "https://localhost:8080/"
        },
        "id": "130QM-0cWUgU",
        "outputId": "3c743789-b0c5-429e-cd22-765038359dec"
      },
      "source": [
        "q=input()\n",
        "j=int(q)\n",
        "print(\"you entered\",j)"
      ],
      "execution_count": 37,
      "outputs": [
        {
          "output_type": "stream",
          "text": [
            "2\n",
            "you entered 2\n"
          ],
          "name": "stdout"
        }
      ]
    },
    {
      "cell_type": "code",
      "metadata": {
        "colab": {
          "base_uri": "https://localhost:8080/"
        },
        "id": "eZZVZB6wWoNg",
        "outputId": "824f60ca-1202-4595-8e5d-403038166eb3"
      },
      "source": [
        "print(\"Hi folks, hope you all are doing well\")\n",
        "print(\"We would like to know your age\")\n",
        "q=input()\n",
        "w=int(q)\n",
        "if(w>20):\n",
        "  print(\"You are elegible for this event\")\n",
        "else:\n",
        "  print(\"You are not elegible!\")\n"
      ],
      "execution_count": 38,
      "outputs": [
        {
          "output_type": "stream",
          "text": [
            "Hi folks, hope you all are doing well\n",
            "We would like to know your age\n",
            "34\n",
            "You are elegible for this event\n"
          ],
          "name": "stdout"
        }
      ]
    },
    {
      "cell_type": "code",
      "metadata": {
        "colab": {
          "base_uri": "https://localhost:8080/"
        },
        "id": "FQRisHodbQdJ",
        "outputId": "7005be68-a38d-437a-8fed-636986a0f1c2"
      },
      "source": [
        "print(\"hi folks\")\n",
        "n=1\n",
        "for i in range (5):\n",
        "  n=n+i\n",
        "print(n)\n"
      ],
      "execution_count": 39,
      "outputs": [
        {
          "output_type": "stream",
          "text": [
            "hi folks\n",
            "11\n"
          ],
          "name": "stdout"
        }
      ]
    },
    {
      "cell_type": "code",
      "metadata": {
        "colab": {
          "base_uri": "https://localhost:8080/"
        },
        "id": "5yxsrCwqfOh6",
        "outputId": "dfee4626-952e-48fc-81a2-d0f933dde070"
      },
      "source": [
        "q=input(\"Which table would you like to learn ?\")\n",
        "w=int(q)\n",
        "print(w,\"X\",1,\"=\",w*1)\n",
        "print(w,\"X\",2,\"=\",2*w)\n"
      ],
      "execution_count": 40,
      "outputs": [
        {
          "output_type": "stream",
          "text": [
            "Which table would you like to learn ?34\n",
            "34 X 1 = 34\n",
            "34 X 2 = 68\n"
          ],
          "name": "stdout"
        }
      ]
    },
    {
      "cell_type": "code",
      "metadata": {
        "colab": {
          "base_uri": "https://localhost:8080/"
        },
        "id": "rV8nHkCbgWN_",
        "outputId": "ae711aa6-0db6-43ef-9448-d1f98aaf6056"
      },
      "source": [
        "q=input(\"Which table would you like to learn ?\")\n",
        "w=int(q)\n",
        "for i in range (11):\n",
        "  print(w,\"X\",i,\"=\",w*i)"
      ],
      "execution_count": 41,
      "outputs": [
        {
          "output_type": "stream",
          "text": [
            "Which table would you like to learn ?2\n",
            "2 X 0 = 0\n",
            "2 X 1 = 2\n",
            "2 X 2 = 4\n",
            "2 X 3 = 6\n",
            "2 X 4 = 8\n",
            "2 X 5 = 10\n",
            "2 X 6 = 12\n",
            "2 X 7 = 14\n",
            "2 X 8 = 16\n",
            "2 X 9 = 18\n",
            "2 X 10 = 20\n"
          ],
          "name": "stdout"
        }
      ]
    },
    {
      "cell_type": "code",
      "metadata": {
        "colab": {
          "base_uri": "https://localhost:8080/"
        },
        "id": "UsF7jgmZu-t_",
        "outputId": "af1476ba-4173-45da-9b2a-8f367d0e59ce"
      },
      "source": [
        "c=input(\"eNTR NO.\")\n",
        "print(c*5)"
      ],
      "execution_count": 42,
      "outputs": [
        {
          "output_type": "stream",
          "text": [
            "eNTR NO.3\n",
            "33333\n"
          ],
          "name": "stdout"
        }
      ]
    },
    {
      "cell_type": "code",
      "metadata": {
        "colab": {
          "base_uri": "https://localhost:8080/"
        },
        "id": "-bLhJatsvc7h",
        "outputId": "b6fbab82-1e34-4a34-c245-2c2f1965ef9e"
      },
      "source": [
        "for i in range (3,30,3):\n",
        "  print(i)"
      ],
      "execution_count": 43,
      "outputs": [
        {
          "output_type": "stream",
          "text": [
            "3\n",
            "6\n",
            "9\n",
            "12\n",
            "15\n",
            "18\n",
            "21\n",
            "24\n",
            "27\n"
          ],
          "name": "stdout"
        }
      ]
    },
    {
      "cell_type": "code",
      "metadata": {
        "colab": {
          "base_uri": "https://localhost:8080/"
        },
        "id": "IWTpPExYv9ER",
        "outputId": "e8aa4f1e-298d-4fc4-cded-645bee8ba095"
      },
      "source": [
        "c=30\n",
        "a=4\n",
        "print(c/a)\n",
        "print(c//a)"
      ],
      "execution_count": 44,
      "outputs": [
        {
          "output_type": "stream",
          "text": [
            "7.5\n",
            "7\n"
          ],
          "name": "stdout"
        }
      ]
    },
    {
      "cell_type": "code",
      "metadata": {
        "id": "Ba-FSRyG0YTR",
        "colab": {
          "base_uri": "https://localhost:8080/"
        },
        "outputId": "1b6a17fc-e9c7-4656-ae28-3c5fb76f1bbc"
      },
      "source": [
        "print(\"HI folks\")\n",
        "q=input(\"What is your name?\")\n",
        "print(\"Hi\",q,\",hope you are doing well\")\n",
        "print(\"Which operation would u perform ?\")\n",
        "w=input()\n",
        "e=int(w)\n",
        "if (e==1):\n",
        "  print(1*e)\n",
        "elif (e==2):\n",
        "  print(2*e)\n",
        "else :\n",
        "  print(\"Incorrect!1\")\n",
        "\n",
        "print(\"===Task accomplished successfully===\")\n"
      ],
      "execution_count": 45,
      "outputs": [
        {
          "output_type": "stream",
          "text": [
            "HI folks\n",
            "What is your name?jc\n",
            "Hi jc ,hope you are doing well\n",
            "Which operation would u perform ?\n",
            "1\n",
            "1\n",
            "===Task accomplished successfully===\n"
          ],
          "name": "stdout"
        }
      ]
    },
    {
      "cell_type": "code",
      "metadata": {
        "colab": {
          "base_uri": "https://localhost:8080/"
        },
        "id": "3EJt4AxS2vZv",
        "outputId": "b008e1a9-34a4-4f94-b584-2ef617417673"
      },
      "source": [
        "thislist = [\"apple\", \"banana\", \"cherry\"]\n",
        "print(thislist[1])"
      ],
      "execution_count": 46,
      "outputs": [
        {
          "output_type": "stream",
          "text": [
            "banana\n"
          ],
          "name": "stdout"
        }
      ]
    },
    {
      "cell_type": "code",
      "metadata": {
        "colab": {
          "base_uri": "https://localhost:8080/"
        },
        "id": "VM3hS2Kj4k7i",
        "outputId": "2a94f3e2-68aa-45d8-a840-2dc1b2147d52"
      },
      "source": [
        "thisset = {\"apple\", \"banana\", \"cherry\"}\n",
        "print(thisset)"
      ],
      "execution_count": 47,
      "outputs": [
        {
          "output_type": "stream",
          "text": [
            "{'banana', 'apple', 'cherry'}\n"
          ],
          "name": "stdout"
        }
      ]
    },
    {
      "cell_type": "code",
      "metadata": {
        "colab": {
          "base_uri": "https://localhost:8080/"
        },
        "id": "OYb6XS_74phs",
        "outputId": "66d31972-4c4f-46ad-fd24-e887415084e7"
      },
      "source": [
        "thisset = {\"apple\", \"banana\", \"cherry\", \"apple\"}\n",
        "\n",
        "print(thisset)"
      ],
      "execution_count": 48,
      "outputs": [
        {
          "output_type": "stream",
          "text": [
            "{'banana', 'apple', 'cherry'}\n"
          ],
          "name": "stdout"
        }
      ]
    },
    {
      "cell_type": "code",
      "metadata": {
        "colab": {
          "base_uri": "https://localhost:8080/"
        },
        "id": "ZpUg_49446fc",
        "outputId": "250fdaac-ef0b-466e-f327-f0e0bb286722"
      },
      "source": [
        "thisdict = {\n",
        "  \"brand\": \"Ford\",\n",
        "  \"model\": \"Mustang\",\n",
        "  \"year\": 1964\n",
        "}\n",
        "print(thisdict)"
      ],
      "execution_count": 49,
      "outputs": [
        {
          "output_type": "stream",
          "text": [
            "{'brand': 'Ford', 'model': 'Mustang', 'year': 1964}\n"
          ],
          "name": "stdout"
        }
      ]
    },
    {
      "cell_type": "code",
      "metadata": {
        "colab": {
          "base_uri": "https://localhost:8080/"
        },
        "id": "p4RQIjWS5E7c",
        "outputId": "6beaf63b-df97-4c3c-bbb4-7129b7c84b83"
      },
      "source": [
        "thisdict = {\n",
        "  \"brand\": \"Ford\",\n",
        "  \"model\": \"Mustang\",\n",
        "  \"year\": 1964,\n",
        "  \"year\": 2020\n",
        "}\n",
        "print(thisdict)"
      ],
      "execution_count": 50,
      "outputs": [
        {
          "output_type": "stream",
          "text": [
            "{'brand': 'Ford', 'model': 'Mustang', 'year': 2020}\n"
          ],
          "name": "stdout"
        }
      ]
    },
    {
      "cell_type": "code",
      "metadata": {
        "colab": {
          "base_uri": "https://localhost:8080/"
        },
        "id": "t3MFQ2mD5q6h",
        "outputId": "86651358-06c6-4464-bb93-29c0fe76acad"
      },
      "source": [
        "i = 1\n",
        "while i < 6:\n",
        "  print(i)\n",
        "  i += 1\n"
      ],
      "execution_count": 51,
      "outputs": [
        {
          "output_type": "stream",
          "text": [
            "1\n",
            "2\n",
            "3\n",
            "4\n",
            "5\n"
          ],
          "name": "stdout"
        }
      ]
    },
    {
      "cell_type": "code",
      "metadata": {
        "colab": {
          "base_uri": "https://localhost:8080/"
        },
        "id": "IqTwpdkS6Q-x",
        "outputId": "e3b0faad-97fe-4a37-fc65-f1fd09ddb88b"
      },
      "source": [
        "fruits = [\"apple\", \"banana\", \"cherry\"]\n",
        "for x in fruits:\n",
        "  print(x)"
      ],
      "execution_count": 52,
      "outputs": [
        {
          "output_type": "stream",
          "text": [
            "apple\n",
            "banana\n",
            "cherry\n"
          ],
          "name": "stdout"
        }
      ]
    },
    {
      "cell_type": "code",
      "metadata": {
        "colab": {
          "base_uri": "https://localhost:8080/"
        },
        "id": "Inn77Y3-7YGU",
        "outputId": "31964872-9063-4c6c-c098-d5bf47b9fb86"
      },
      "source": [
        "def my_function(fname, lname):\n",
        "  print(fname + \" \" + lname)\n",
        "\n",
        "my_function(\"Eil\", \"Refsnes\")\n"
      ],
      "execution_count": 53,
      "outputs": [
        {
          "output_type": "stream",
          "text": [
            "Eil Refsnes\n"
          ],
          "name": "stdout"
        }
      ]
    },
    {
      "cell_type": "code",
      "metadata": {
        "id": "OGEqMCi_73L_",
        "colab": {
          "base_uri": "https://localhost:8080/"
        },
        "outputId": "9d83bc27-5889-4d86-f047-8134aff38f44"
      },
      "source": [
        "def my_function(*kids):\n",
        "  print(\"The youngest child is \" + kids[2])\n",
        "\n",
        "my_function(\"Emil\", \"Tobias\", \"Linus\")"
      ],
      "execution_count": 54,
      "outputs": [
        {
          "output_type": "stream",
          "text": [
            "The youngest child is Linus\n"
          ],
          "name": "stdout"
        }
      ]
    },
    {
      "cell_type": "code",
      "metadata": {
        "colab": {
          "base_uri": "https://localhost:8080/"
        },
        "id": "TMs5Rg4ccXWH",
        "outputId": "a677684f-5c13-42a4-8aed-c52f47bc28b1"
      },
      "source": [
        "x = lambda a : a + 10\n",
        "print(x(5))"
      ],
      "execution_count": 55,
      "outputs": [
        {
          "output_type": "stream",
          "text": [
            "15\n"
          ],
          "name": "stdout"
        }
      ]
    },
    {
      "cell_type": "code",
      "metadata": {
        "colab": {
          "base_uri": "https://localhost:8080/"
        },
        "id": "gnS9tpUac22m",
        "outputId": "3174623f-fb70-46e4-ed29-0c6f89a93907"
      },
      "source": [
        "def fn(fname):\n",
        "  print(fname ,\"Hi\")\n",
        "  q=input(\"enter your fav no.\")\n",
        "  w=int(q)\n",
        "  print(fname,\"Your fav no. is \",w)\n",
        "fn(\"jay\")\n",
        "fn(\"ds\")\n"
      ],
      "execution_count": 56,
      "outputs": [
        {
          "output_type": "stream",
          "text": [
            "jay Hi\n",
            "enter your fav no.9\n",
            "jay Your fav no. is  9\n",
            "ds Hi\n",
            "enter your fav no.3\n",
            "ds Your fav no. is  3\n"
          ],
          "name": "stdout"
        }
      ]
    },
    {
      "cell_type": "code",
      "metadata": {
        "colab": {
          "base_uri": "https://localhost:8080/"
        },
        "id": "Y6nqbcLYegIO",
        "outputId": "9a29db8a-fd8e-4348-d393-7c4636b22777"
      },
      "source": [
        "cars = [\"Ford\", \"Volvo\", \"BMW\"]\n",
        "print(cars)\n",
        "for x in cars:\n",
        "  print(x)\n",
        "\n",
        "cars.append(\"Honda\")\n",
        "print(cars)\n",
        "cars.pop()\n",
        "print(cars)\n",
        "\n",
        "cars.remove(\"Volvo\")\n",
        "print(cars)\n",
        "\n",
        "cars\n",
        "\n",
        "\n"
      ],
      "execution_count": 57,
      "outputs": [
        {
          "output_type": "stream",
          "text": [
            "['Ford', 'Volvo', 'BMW']\n",
            "Ford\n",
            "Volvo\n",
            "BMW\n",
            "['Ford', 'Volvo', 'BMW', 'Honda']\n",
            "['Ford', 'Volvo', 'BMW']\n",
            "['Ford', 'BMW']\n"
          ],
          "name": "stdout"
        },
        {
          "output_type": "execute_result",
          "data": {
            "text/plain": [
              "['Ford', 'BMW']"
            ]
          },
          "metadata": {
            "tags": []
          },
          "execution_count": 57
        }
      ]
    },
    {
      "cell_type": "code",
      "metadata": {
        "colab": {
          "base_uri": "https://localhost:8080/"
        },
        "id": "jzgAnV0ynX9l",
        "outputId": "81ee39bd-59ad-4c1d-e0bd-af5ba0d14ee2"
      },
      "source": [
        "class abc:\n",
        "  a=1\n",
        "  b=3\n",
        "\n",
        "p1= abc ()\n",
        "print(p1.b)\n",
        "\n"
      ],
      "execution_count": 58,
      "outputs": [
        {
          "output_type": "stream",
          "text": [
            "3\n"
          ],
          "name": "stdout"
        }
      ]
    },
    {
      "cell_type": "code",
      "metadata": {
        "colab": {
          "base_uri": "https://localhost:8080/"
        },
        "id": "zaEVEoLO04-L",
        "outputId": "acdb52ad-883a-41ae-b596-586fb1c5858b"
      },
      "source": [
        "x = 300\n",
        "\n",
        "def myfunc():\n",
        "  global x\n",
        "  x = 200\n",
        "\n",
        "myfunc()\n",
        "\n",
        "print(x)\n"
      ],
      "execution_count": 59,
      "outputs": [
        {
          "output_type": "stream",
          "text": [
            "200\n"
          ],
          "name": "stdout"
        }
      ]
    },
    {
      "cell_type": "code",
      "metadata": {
        "colab": {
          "base_uri": "https://localhost:8080/"
        },
        "id": "CR50r0mV047r",
        "outputId": "f471f9b5-d181-48f8-f40a-63624aa4b705"
      },
      "source": [
        "import datetime\n",
        "\n",
        "x = datetime.datetime.now()\n",
        "print(x)"
      ],
      "execution_count": 60,
      "outputs": [
        {
          "output_type": "stream",
          "text": [
            "2021-08-10 12:03:38.562645\n"
          ],
          "name": "stdout"
        }
      ]
    },
    {
      "cell_type": "code",
      "metadata": {
        "colab": {
          "base_uri": "https://localhost:8080/",
          "height": 49,
          "referenced_widgets": [
            "539a98129bfd476e8cf194075f930400",
            "0d76f161ad324a3b8a8fe493821822de",
            "54e8b90771fd4ae1bb70ea926dba9023"
          ]
        },
        "id": "CUIB_8HE-WEc",
        "outputId": "1702f5b0-3a62-4bb2-b941-1ba73c286bed"
      },
      "source": [
        "import ipywidgets as widgets\n",
        "\n",
        "slider = widgets.IntSlider(20, min=0, max=100)\n",
        "slider"
      ],
      "execution_count": 61,
      "outputs": [
        {
          "output_type": "display_data",
          "data": {
            "application/vnd.jupyter.widget-view+json": {
              "model_id": "539a98129bfd476e8cf194075f930400",
              "version_minor": 0,
              "version_major": 2
            },
            "text/plain": [
              "IntSlider(value=20)"
            ]
          },
          "metadata": {
            "tags": []
          }
        }
      ]
    },
    {
      "cell_type": "code",
      "metadata": {
        "id": "J0zm1MCl-r-Y"
      },
      "source": [
        ""
      ],
      "execution_count": null,
      "outputs": []
    },
    {
      "cell_type": "code",
      "metadata": {
        "colab": {
          "base_uri": "https://localhost:8080/",
          "height": 462,
          "referenced_widgets": [
            "f0a208fa5aba467cb205bcef9670f827",
            "163d4a6fd3764489b492aa8d16f2c089",
            "67671ea737fd422db796e6627cfea39f",
            "5b095ce4a5ae454b9af6ea666bc37620",
            "7cf3c4b724f54b69b0fe69fc8d44d6dd",
            "960b36911a0c42778740bcdbd4943636",
            "eabeaf217e8b45b89ff35d47f54f515e"
          ]
        },
        "id": "l7nmfw5t-tfb",
        "outputId": "c16b4bcc-f2ea-4fc4-d443-713886dbb8b6"
      },
      "source": [
        "import altair as alt\n",
        "import ipywidgets as widgets\n",
        "from vega_datasets import data\n",
        "\n",
        "source = data.stocks()\n",
        "\n",
        "stock_picker = widgets.SelectMultiple(\n",
        "    options=source.symbol.unique(),\n",
        "    value=list(source.symbol.unique()),\n",
        "    description='Symbols')\n",
        "\n",
        "# The value of symbols will come from the stock_picker.\n",
        "@widgets.interact(symbols=stock_picker)\n",
        "def render(symbols):\n",
        "  selected = source[source.symbol.isin(list(symbols))]\n",
        "\n",
        "  return alt.Chart(selected).mark_line().encode(\n",
        "      x='date',\n",
        "      y='price',\n",
        "      color='symbol',\n",
        "      strokeDash='symbol',\n",
        "  )"
      ],
      "execution_count": 62,
      "outputs": [
        {
          "output_type": "display_data",
          "data": {
            "application/vnd.jupyter.widget-view+json": {
              "model_id": "f0a208fa5aba467cb205bcef9670f827",
              "version_minor": 0,
              "version_major": 2
            },
            "text/plain": [
              "interactive(children=(SelectMultiple(description='Symbols', index=(0, 1, 2, 3, 4), options=('MSFT', 'AMZN', 'I…"
            ]
          },
          "metadata": {
            "tags": []
          }
        }
      ]
    },
    {
      "cell_type": "code",
      "metadata": {
        "id": "XTAzkUU3_8JE"
      },
      "source": [
        " "
      ],
      "execution_count": null,
      "outputs": []
    }
  ]
}